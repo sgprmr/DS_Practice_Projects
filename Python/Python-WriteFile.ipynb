{
    "cells": [
        {
            "cell_type": "markdown",
            "metadata": {},
            "source": "<h1>Write and Save Files in Python</h1>"
        },
        {
            "cell_type": "markdown",
            "metadata": {},
            "source": "<h2>Table of Contents</h2>\n<div class=\"alert alert-block alert-info\" style=\"margin-top: 20px\">\n    <ul>\n        <li><a href=\"write\">Writing Files</a></li>\n        <li><a href=\"copy\">Copy a File</a></li>\n    </ul>\n</div>\n\n<hr>"
        },
        {
            "cell_type": "markdown",
            "metadata": {},
            "source": "<h2 id=\"write\">Writing Files</h2>"
        },
        {
            "cell_type": "markdown",
            "metadata": {},
            "source": " We can open a file object using the method <code>write()</code> to save the text file to a list. To write the mode, argument must be set to write <b>w</b>. Let\u2019s write a file <b>Example2.txt</b> with the line: <b>\u201cThis is line A\u201d</b>"
        },
        {
            "cell_type": "code",
            "execution_count": 1,
            "metadata": {},
            "outputs": [
                {
                    "ename": "FileNotFoundError",
                    "evalue": "[Errno 2] No such file or directory: '/resources/data/Example2.txt'",
                    "output_type": "error",
                    "traceback": [
                        "\u001b[0;31m---------------------------------------------------------------------------\u001b[0m",
                        "\u001b[0;31mFileNotFoundError\u001b[0m                         Traceback (most recent call last)",
                        "\u001b[0;32m<ipython-input-1-668bd80a74c6>\u001b[0m in \u001b[0;36m<module>\u001b[0;34m\u001b[0m\n\u001b[1;32m      1\u001b[0m \u001b[0;31m# Write line to file\u001b[0m\u001b[0;34m\u001b[0m\u001b[0;34m\u001b[0m\u001b[0;34m\u001b[0m\u001b[0m\n\u001b[1;32m      2\u001b[0m \u001b[0;34m\u001b[0m\u001b[0m\n\u001b[0;32m----> 3\u001b[0;31m \u001b[0;32mwith\u001b[0m \u001b[0mopen\u001b[0m\u001b[0;34m(\u001b[0m\u001b[0;34m'/resources/data/Example2.txt'\u001b[0m\u001b[0;34m,\u001b[0m \u001b[0;34m'w'\u001b[0m\u001b[0;34m)\u001b[0m \u001b[0;32mas\u001b[0m \u001b[0mwritefile\u001b[0m\u001b[0;34m:\u001b[0m\u001b[0;34m\u001b[0m\u001b[0;34m\u001b[0m\u001b[0m\n\u001b[0m\u001b[1;32m      4\u001b[0m     \u001b[0mwritefile\u001b[0m\u001b[0;34m.\u001b[0m\u001b[0mwrite\u001b[0m\u001b[0;34m(\u001b[0m\u001b[0;34m\"This is line A\"\u001b[0m\u001b[0;34m)\u001b[0m\u001b[0;34m\u001b[0m\u001b[0;34m\u001b[0m\u001b[0m\n",
                        "\u001b[0;31mFileNotFoundError\u001b[0m: [Errno 2] No such file or directory: '/resources/data/Example2.txt'"
                    ]
                }
            ],
            "source": "# Write line to file\n\nwith open('/resources/data/Example2.txt', 'w') as writefile:\n    writefile.write(\"This is line A\")"
        },
        {
            "cell_type": "markdown",
            "metadata": {},
            "source": " We can read the file to see if it worked:"
        },
        {
            "cell_type": "code",
            "execution_count": 2,
            "metadata": {
                "jupyter": {
                    "outputs_hidden": false
                }
            },
            "outputs": [
                {
                    "name": "stdout",
                    "output_type": "stream",
                    "text": "This is line A\n"
                }
            ],
            "source": "# Read file\n\nwith open('/resources/data/Example2.txt', 'r') as testwritefile:\n    print(testwritefile.read())"
        },
        {
            "cell_type": "markdown",
            "metadata": {},
            "source": "We can write multiple lines:"
        },
        {
            "cell_type": "code",
            "execution_count": 3,
            "metadata": {},
            "outputs": [],
            "source": "# Write lines to file\n\nwith open('/resources/data/Example2.txt', 'w') as writefile:\n    writefile.write(\"This is line A\\n\")\n    writefile.write(\"This is line B\\n\")"
        },
        {
            "cell_type": "markdown",
            "metadata": {},
            "source": "The method <code>.write()</code> works similar to the method <code>.readline()</code>, except instead of reading a new line it writes a new line. The process is illustrated in the figure , the different colour coding of the grid represents a new line added to the file after each method call."
        },
        {
            "cell_type": "code",
            "execution_count": 4,
            "metadata": {
                "jupyter": {
                    "outputs_hidden": false
                }
            },
            "outputs": [
                {
                    "name": "stdout",
                    "output_type": "stream",
                    "text": "This is line A\nThis is line B\n\n"
                }
            ],
            "source": "# Check whether write to file\n\nwith open('/resources/data/Example2.txt', 'r') as testwritefile:\n    print(testwritefile.read())"
        },
        {
            "cell_type": "markdown",
            "metadata": {},
            "source": " By setting the mode argument to append **a**  you can append a new line as follows:"
        },
        {
            "cell_type": "code",
            "execution_count": null,
            "metadata": {
                "jupyter": {
                    "outputs_hidden": false
                }
            },
            "outputs": [],
            "source": "# Write a new line to text file\n\nwith open('/resources/data/Example2.txt', 'a') as testwritefile:\n    testwritefile.write(\"This is line C\\n\")"
        },
        {
            "cell_type": "markdown",
            "metadata": {},
            "source": " You can verify the file has changed by running the following cell:"
        },
        {
            "cell_type": "code",
            "execution_count": null,
            "metadata": {
                "jupyter": {
                    "outputs_hidden": false
                }
            },
            "outputs": [],
            "source": "# Verify if the new line is in the text file\n\nwith open('/resources/data/Example2.txt', 'r') as testwritefile:\n    print(testwritefile.read())"
        },
        {
            "cell_type": "markdown",
            "metadata": {},
            "source": " We write a list to a <b>.txt</b> file  as follows:"
        },
        {
            "cell_type": "code",
            "execution_count": null,
            "metadata": {
                "jupyter": {
                    "outputs_hidden": false
                }
            },
            "outputs": [],
            "source": "# Sample list of text\n\nLines = [\"This is line A\\n\", \"This is line B\\n\", \"This is line C\\n\"]\nLines"
        },
        {
            "cell_type": "code",
            "execution_count": null,
            "metadata": {
                "jupyter": {
                    "outputs_hidden": false
                }
            },
            "outputs": [],
            "source": "# Write the strings in the list to text file\n\nwith open('Example2.txt', 'w') as writefile:\n    for line in Lines:\n        print(line)\n        writefile.write(line)"
        },
        {
            "cell_type": "markdown",
            "metadata": {},
            "source": " We can verify the file is written by reading it and printing out the values:  "
        },
        {
            "cell_type": "code",
            "execution_count": null,
            "metadata": {
                "jupyter": {
                    "outputs_hidden": false
                }
            },
            "outputs": [],
            "source": "# Verify if writing to file is successfully executed\n\nwith open('Example2.txt', 'r') as testwritefile:\n    print(testwritefile.read())"
        },
        {
            "cell_type": "markdown",
            "metadata": {},
            "source": "We can again append to the file by changing the second parameter to <b>a</b>. This adds the code:"
        },
        {
            "cell_type": "code",
            "execution_count": null,
            "metadata": {
                "jupyter": {
                    "outputs_hidden": false
                }
            },
            "outputs": [],
            "source": "# Append the line to the file\n\nwith open('Example2.txt', 'a') as testwritefile:\n    testwritefile.write(\"This is line D\\n\")"
        },
        {
            "cell_type": "markdown",
            "metadata": {},
            "source": "We can see the results of appending the file: "
        },
        {
            "cell_type": "code",
            "execution_count": null,
            "metadata": {
                "jupyter": {
                    "outputs_hidden": false
                }
            },
            "outputs": [],
            "source": "# Verify if the appending is successfully executed\n\nwith open('Example2.txt', 'r') as testwritefile:\n    print(testwritefile.read())"
        },
        {
            "cell_type": "markdown",
            "metadata": {},
            "source": "<hr>"
        },
        {
            "cell_type": "markdown",
            "metadata": {},
            "source": "<h2 id=\"copy\">Copy a File</h2> "
        },
        {
            "cell_type": "markdown",
            "metadata": {},
            "source": "Let's copy the file <b>Example2.txt</b> to the file <b>Example3.txt</b>:"
        },
        {
            "cell_type": "code",
            "execution_count": null,
            "metadata": {
                "jupyter": {
                    "outputs_hidden": false
                }
            },
            "outputs": [],
            "source": "# Copy file to another\n\nwith open('Example2.txt','r') as readfile:\n    with open('Example3.txt','w') as writefile:\n          for line in readfile:\n                writefile.write(line)"
        },
        {
            "cell_type": "markdown",
            "metadata": {},
            "source": "We can read the file to see if everything works:"
        },
        {
            "cell_type": "code",
            "execution_count": null,
            "metadata": {
                "jupyter": {
                    "outputs_hidden": false
                }
            },
            "outputs": [],
            "source": "# Verify if the copy is successfully executed\n\nwith open('Example3.txt','r') as testwritefile:\n    print(testwritefile.read())"
        },
        {
            "cell_type": "markdown",
            "metadata": {},
            "source": " After reading files, we can also write data into files and save them in different file formats like **.txt, .csv, .xls (for excel files) etc**. Let's take a look at some examples."
        },
        {
            "cell_type": "markdown",
            "metadata": {},
            "source": "Now go to the directory to ensure the <b>.txt</b> file exists and contains the summary data that we wrote."
        }
    ],
    "metadata": {
        "kernelspec": {
            "display_name": "Python 3.7",
            "language": "python",
            "name": "python3"
        },
        "language_info": {
            "codemirror_mode": {
                "name": "ipython",
                "version": 3
            },
            "file_extension": ".py",
            "mimetype": "text/x-python",
            "name": "python",
            "nbconvert_exporter": "python",
            "pygments_lexer": "ipython3",
            "version": "3.7.9"
        }
    },
    "nbformat": 4,
    "nbformat_minor": 4
}