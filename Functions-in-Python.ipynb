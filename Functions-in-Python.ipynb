{
    "cells": [
        {
            "cell_type": "markdown",
            "metadata": {},
            "source": "<h1>Functions in Python</h1>"
        },
        {
            "cell_type": "markdown",
            "metadata": {},
            "source": "<h2>Table of Contents</h2>\n<div class=\"alert alert-block alert-info\" style=\"margin-top: 20px\">\n    <ul>\n        <li>\n            <a href=\"#func\">Functions</a>\n            <ul>\n                <li><a href=\"content\">What is a function?</a></li>\n                <li><a href=\"var\">Variables</a></li>\n            </ul>\n        </li>\n        <li><a href=\"pre\">Pre-defined functions</a></li>\n        <li><a href=\"default\">Setting default argument values in your custom functions</a></li>\n        <li><a href=\"global\">Global variables</a></li>\n        <li><a href=\"scope\">Scope of a Variable</a></li>\n      </ul>\n</div>\n\n<hr>"
        },
        {
            "cell_type": "markdown",
            "metadata": {},
            "source": "<h2 id=\"func\">Functions</h2>"
        },
        {
            "cell_type": "markdown",
            "metadata": {},
            "source": "A function is a reusable block of code which performs operations specified in the function.  They let you break down tasks and allow you to reuse your code in different programs.\n\nThere are two types of functions :\n\n- <b>Pre-defined functions</b>\n- <b>User defined functions</b>"
        },
        {
            "cell_type": "markdown",
            "metadata": {},
            "source": "<h3 id=\"content\">What is a Function?</h3>"
        },
        {
            "cell_type": "markdown",
            "metadata": {},
            "source": "You can define functions to provide the required functionality. Here are simple rules to define a function in Python:\n-  Functions blocks begin <code>def</code>\u00a0followed by the function <code>name</code> and parentheses <code>()</code>.\n-  There are input parameters or arguments that should be placed within these parentheses. \n-  You can also define parameters inside these parentheses.\n-  There is a body within every function that starts with a colon (<code>:</code>) and is indented.\n-  You can also place documentation before the body \n-  The statement <code>return</code> exits a function, optionally passing back a value \n\nAn example of a function that adds on to the parameter <code>a</code> prints and returns the output as <code>b</code>:"
        },
        {
            "cell_type": "code",
            "execution_count": 1,
            "metadata": {},
            "outputs": [],
            "source": "# First function example: Add 1 to a and store as b\n\ndef add(a):\n    b = a + 1\n    print(a, \"if you add one\", b)\n    return(b)"
        },
        {
            "cell_type": "markdown",
            "metadata": {},
            "source": "The figure below illustrates the terminology: "
        },
        {
            "cell_type": "markdown",
            "metadata": {},
            "source": "\nWe can obtain help about a function :"
        },
        {
            "cell_type": "code",
            "execution_count": 2,
            "metadata": {
                "jupyter": {
                    "outputs_hidden": false
                }
            },
            "outputs": [
                {
                    "name": "stdout",
                    "output_type": "stream",
                    "text": "Help on function add in module __main__:\n\nadd(a)\n\n"
                }
            ],
            "source": "# Get a help on add function\n\nhelp(add)"
        },
        {
            "cell_type": "markdown",
            "metadata": {},
            "source": "We can call the function:"
        },
        {
            "cell_type": "code",
            "execution_count": 3,
            "metadata": {
                "jupyter": {
                    "outputs_hidden": false
                }
            },
            "outputs": [
                {
                    "name": "stdout",
                    "output_type": "stream",
                    "text": "1 if you add one 2\n"
                },
                {
                    "data": {
                        "text/plain": "2"
                    },
                    "execution_count": 3,
                    "metadata": {},
                    "output_type": "execute_result"
                }
            ],
            "source": "# Call the function add()\n\nadd(1)"
        },
        {
            "cell_type": "markdown",
            "metadata": {},
            "source": "If we call the function with a new input we get a new result:"
        },
        {
            "cell_type": "code",
            "execution_count": 4,
            "metadata": {
                "jupyter": {
                    "outputs_hidden": false
                }
            },
            "outputs": [
                {
                    "name": "stdout",
                    "output_type": "stream",
                    "text": "2 if you add one 3\n"
                },
                {
                    "data": {
                        "text/plain": "3"
                    },
                    "execution_count": 4,
                    "metadata": {},
                    "output_type": "execute_result"
                }
            ],
            "source": "# Call the function add()\n\nadd(2)"
        },
        {
            "cell_type": "markdown",
            "metadata": {},
            "source": "We can create different functions. For example, we can create a function that multiplies two numbers. The numbers will be represented by the variables <code>a</code> and <code>b</code>:"
        },
        {
            "cell_type": "code",
            "execution_count": 5,
            "metadata": {},
            "outputs": [],
            "source": "# Define a function for multiple two numbers\n\ndef Mult(a, b):\n    c = a * b\n    return(c)"
        },
        {
            "cell_type": "markdown",
            "metadata": {},
            "source": "The same function can be used for different data types. For example, we can multiply two integers:\n"
        },
        {
            "cell_type": "code",
            "execution_count": 6,
            "metadata": {
                "jupyter": {
                    "outputs_hidden": false
                }
            },
            "outputs": [
                {
                    "data": {
                        "text/plain": "6"
                    },
                    "execution_count": 6,
                    "metadata": {},
                    "output_type": "execute_result"
                }
            ],
            "source": "# Use mult() multiply two integers\n\nMult(2, 3)"
        },
        {
            "cell_type": "markdown",
            "metadata": {},
            "source": " Two Floats: "
        },
        {
            "cell_type": "code",
            "execution_count": 7,
            "metadata": {
                "jupyter": {
                    "outputs_hidden": false
                }
            },
            "outputs": [
                {
                    "data": {
                        "text/plain": "31.400000000000002"
                    },
                    "execution_count": 7,
                    "metadata": {},
                    "output_type": "execute_result"
                }
            ],
            "source": "# Use mult() multiply two floats\n\nMult(10.0, 3.14)"
        },
        {
            "cell_type": "markdown",
            "metadata": {},
            "source": "We can even replicate a string by multiplying with an integer: "
        },
        {
            "cell_type": "code",
            "execution_count": 8,
            "metadata": {
                "jupyter": {
                    "outputs_hidden": false
                }
            },
            "outputs": [
                {
                    "data": {
                        "text/plain": "'Michael Jackson Michael Jackson '"
                    },
                    "execution_count": 8,
                    "metadata": {},
                    "output_type": "execute_result"
                }
            ],
            "source": "# Use mult() multiply two different type values together\n\nMult(2, \"Michael Jackson \")"
        },
        {
            "cell_type": "markdown",
            "metadata": {},
            "source": "<h3 id=\"var\">Variables</h3>"
        },
        {
            "cell_type": "markdown",
            "metadata": {},
            "source": "The input to a function is called a formal parameter.\n\nA variable that is declared inside a function is called a  local variable. The parameter only exists within the function (i.e. the point where the function starts and stops).  \n\nA variable that is declared outside a function definition is a global variable, and its value is accessible and modifiable throughout the program. We will discuss more about global variables at the end of the lab.\n"
        },
        {
            "cell_type": "code",
            "execution_count": 9,
            "metadata": {
                "jupyter": {
                    "outputs_hidden": false
                }
            },
            "outputs": [],
            "source": "# Function Definition\n\ndef square(a):\n    \n    # Local variable b\n    b = 1\n    c = a * a + b\n    print(a, \"if you square + 1\", c) \n    return(c)"
        },
        {
            "cell_type": "markdown",
            "metadata": {},
            "source": "The labels are displayed in the figure:  "
        },
        {
            "cell_type": "markdown",
            "metadata": {},
            "source": "We can call the function  with an input of <b>3</b>:"
        },
        {
            "cell_type": "code",
            "execution_count": 10,
            "metadata": {
                "jupyter": {
                    "outputs_hidden": false
                }
            },
            "outputs": [
                {
                    "name": "stdout",
                    "output_type": "stream",
                    "text": "3 if you square + 1 10\n"
                },
                {
                    "data": {
                        "text/plain": "10"
                    },
                    "execution_count": 10,
                    "metadata": {},
                    "output_type": "execute_result"
                }
            ],
            "source": "# Initializes Global variable  \n\nx = 3\n# Makes function call and return function a y\ny = square(x)\ny"
        },
        {
            "cell_type": "markdown",
            "metadata": {},
            "source": " We can call the function  with an input of <b>2</b> in a different manner:"
        },
        {
            "cell_type": "code",
            "execution_count": 11,
            "metadata": {
                "jupyter": {
                    "outputs_hidden": false
                }
            },
            "outputs": [
                {
                    "name": "stdout",
                    "output_type": "stream",
                    "text": "2 if you square + 1 5\n"
                },
                {
                    "data": {
                        "text/plain": "5"
                    },
                    "execution_count": 11,
                    "metadata": {},
                    "output_type": "execute_result"
                }
            ],
            "source": "# Directly enter a number as parameter\n\nsquare(2)"
        },
        {
            "cell_type": "markdown",
            "metadata": {},
            "source": "If there is no <code>return</code> statement, the function returns <code>None</code>. The following two functions are equivalent:"
        },
        {
            "cell_type": "code",
            "execution_count": 15,
            "metadata": {
                "jupyter": {
                    "outputs_hidden": false
                }
            },
            "outputs": [],
            "source": "# Define functions, one with return value None and other without return value\n\ndef MJ():\n    print('Michael Jackson')\n    \ndef MJ1():\n    print('Michael Jackson')\n    return(None)"
        },
        {
            "cell_type": "code",
            "execution_count": 16,
            "metadata": {
                "jupyter": {
                    "outputs_hidden": false
                }
            },
            "outputs": [
                {
                    "name": "stdout",
                    "output_type": "stream",
                    "text": "Michael Jackson\n"
                }
            ],
            "source": "# See the output\n\nMJ()"
        },
        {
            "cell_type": "code",
            "execution_count": 17,
            "metadata": {
                "jupyter": {
                    "outputs_hidden": false
                }
            },
            "outputs": [
                {
                    "name": "stdout",
                    "output_type": "stream",
                    "text": "Michael Jackson\n"
                }
            ],
            "source": "# See the output\n\nMJ1()"
        },
        {
            "cell_type": "markdown",
            "metadata": {},
            "source": "Printing the function after a call reveals a **None** is the default return statement:"
        },
        {
            "cell_type": "code",
            "execution_count": 18,
            "metadata": {
                "jupyter": {
                    "outputs_hidden": false
                }
            },
            "outputs": [
                {
                    "name": "stdout",
                    "output_type": "stream",
                    "text": "Michael Jackson\nNone\nMichael Jackson\nNone\n"
                }
            ],
            "source": "# See what functions returns are\n\nprint(MJ())\nprint(MJ1())"
        },
        {
            "cell_type": "markdown",
            "metadata": {},
            "source": "Create a function <code>con</code> that  concatenates two strings using the addition operation:"
        },
        {
            "cell_type": "code",
            "execution_count": 19,
            "metadata": {},
            "outputs": [],
            "source": "# Define the function for combining strings\n\ndef con(a, b):\n    return(a + b)"
        },
        {
            "cell_type": "code",
            "execution_count": 20,
            "metadata": {},
            "outputs": [
                {
                    "data": {
                        "text/plain": "'This is'"
                    },
                    "execution_count": 20,
                    "metadata": {},
                    "output_type": "execute_result"
                }
            ],
            "source": "# Test on the con() function\n\ncon(\"This \", \"is\")"
        },
        {
            "cell_type": "markdown",
            "metadata": {},
            "source": "<hr>"
        },
        {
            "cell_type": "markdown",
            "metadata": {},
            "source": "<h2 id=\"pre\">Pre-defined functions</h2>"
        },
        {
            "cell_type": "markdown",
            "metadata": {},
            "source": "There are many pre-defined functions in Python, so let's start with the simple ones."
        },
        {
            "cell_type": "markdown",
            "metadata": {},
            "source": "The <code>print()</code> function:"
        },
        {
            "cell_type": "code",
            "execution_count": 25,
            "metadata": {},
            "outputs": [
                {
                    "name": "stdout",
                    "output_type": "stream",
                    "text": "[10.0, 8.5, 9.5, 7.0, 7.0, 9.5, 9.0, 9.5]\n"
                }
            ],
            "source": "# Build-in function print()\n\nalbum_ratings = [10.0, 8.5, 9.5, 7.0, 7.0, 9.5, 9.0, 9.5] \nprint(album_ratings)"
        },
        {
            "cell_type": "markdown",
            "metadata": {},
            "source": "The <code>sum()</code> function adds all the  elements in a list or tuple:"
        },
        {
            "cell_type": "code",
            "execution_count": 26,
            "metadata": {},
            "outputs": [
                {
                    "data": {
                        "text/plain": "70.0"
                    },
                    "execution_count": 26,
                    "metadata": {},
                    "output_type": "execute_result"
                }
            ],
            "source": "# Use sum() to add every element in a list or tuple together\n\nsum(album_ratings)"
        },
        {
            "cell_type": "markdown",
            "metadata": {},
            "source": "The <code>len()</code> function returns the length of a list or tuple: "
        },
        {
            "cell_type": "code",
            "execution_count": 27,
            "metadata": {},
            "outputs": [
                {
                    "data": {
                        "text/plain": "8"
                    },
                    "execution_count": 27,
                    "metadata": {},
                    "output_type": "execute_result"
                }
            ],
            "source": "# Show the length of the list or tuple\n\nlen(album_ratings)"
        },
        {
            "cell_type": "markdown",
            "metadata": {},
            "source": "<hr>"
        },
        {
            "cell_type": "markdown",
            "metadata": {},
            "source": "<h2 id=\"default\">Setting default argument values in your custom functions</h2>"
        },
        {
            "cell_type": "markdown",
            "metadata": {},
            "source": "You can set a default value for arguments in your function. For example, in the <code>isGoodRating()</code> function, what if we wanted to create a threshold for what we consider to be a good rating? Perhaps by default, we should have a default rating of 4:"
        },
        {
            "cell_type": "code",
            "execution_count": 31,
            "metadata": {
                "jupyter": {
                    "outputs_hidden": false
                }
            },
            "outputs": [],
            "source": "# Example for setting param with default value\n\ndef isGoodRating(rating=4): \n    if(rating < 7):\n        print(\"this album sucks it's rating is\",rating)\n        \n    else:\n        print(\"this album is good its rating is\",rating)\n"
        },
        {
            "cell_type": "code",
            "execution_count": 32,
            "metadata": {
                "jupyter": {
                    "outputs_hidden": false
                }
            },
            "outputs": [
                {
                    "name": "stdout",
                    "output_type": "stream",
                    "text": "this album sucks it's rating is 4\nthis album is good its rating is 10\n"
                }
            ],
            "source": "# Test the value with default value and with input\n\nisGoodRating()\nisGoodRating(10)"
        },
        {
            "cell_type": "markdown",
            "metadata": {},
            "source": "<hr>"
        },
        {
            "cell_type": "markdown",
            "metadata": {},
            "source": "<h2 id=\"global\">Global variables</h2>"
        },
        {
            "cell_type": "markdown",
            "metadata": {},
            "source": "So far, we've been creating variables within functions, but we have not discussed variables outside the function.  These are called global variables. \n<br>\nLet's try to see what <code>printer1</code> returns:"
        },
        {
            "cell_type": "code",
            "execution_count": 34,
            "metadata": {
                "jupyter": {
                    "outputs_hidden": false
                }
            },
            "outputs": [
                {
                    "name": "stdout",
                    "output_type": "stream",
                    "text": "Michael Jackson is an artist\n"
                }
            ],
            "source": "# Example of global variable\n\nartist = \"Michael Jackson\"\ndef printer1(artist):\n    internal_var = artist\n    print(internal_var, \"is an artist\")\n    \nprinter1(artist)"
        },
        {
            "cell_type": "markdown",
            "metadata": {},
            "source": "If we print <code>internal_var</code> we get an error. "
        },
        {
            "cell_type": "markdown",
            "metadata": {},
            "source": "<b>We got a Name Error:  <code>name 'internal_var' is not defined</code>. Why?</b>  \n\nIt's because all the variables we create in the function is a <b>local variable</b>, meaning that the variable assignment does not persist outside the function.  \n\nBut there is a way to create <b>global variables</b> from within a function as follows:"
        },
        {
            "cell_type": "code",
            "execution_count": 38,
            "metadata": {
                "jupyter": {
                    "outputs_hidden": false
                }
            },
            "outputs": [
                {
                    "name": "stdout",
                    "output_type": "stream",
                    "text": "Michael Jackson is an artist\nWhitney Houston is an artist\n"
                }
            ],
            "source": "artist = \"Michael Jackson\"\n\ndef printer(artist):\n    global internal_var \n    internal_var= \"Whitney Houston\"\n    print(artist,\"is an artist\")\n\nprinter(artist) \nprinter(internal_var)"
        },
        {
            "cell_type": "markdown",
            "metadata": {},
            "source": "<h2 id=\"scope\">Scope of a Variable</h2>"
        },
        {
            "cell_type": "markdown",
            "metadata": {},
            "source": " The scope of a variable is the part of that program where that variable is accessible. Variables that are declared outside of all function definitions, such as the <code>myFavouriteBand</code> variable in the code shown here, are accessible from anywhere within the program. As a result, such variables are said to have global scope, and are known as global variables. \n    <code>myFavouriteBand</code> is a global variable, so it is accessible from within the <code>getBandRating</code> function, and we can use it to determine a band's rating. We can also use it outside of the function, such as when we pass it to the print function to display it:"
        },
        {
            "cell_type": "code",
            "execution_count": 39,
            "metadata": {
                "jupyter": {
                    "outputs_hidden": false
                }
            },
            "outputs": [
                {
                    "name": "stdout",
                    "output_type": "stream",
                    "text": "AC/DC's rating is: 10.0\nDeep Purple's rating is: 0.0\nMy favourite band is: AC/DC\n"
                }
            ],
            "source": "# Example of global variable\n\nmyFavouriteBand = \"AC/DC\"\n\ndef getBandRating(bandname):\n    if bandname == myFavouriteBand:\n        return 10.0\n    else:\n        return 0.0\n\nprint(\"AC/DC's rating is:\", getBandRating(\"AC/DC\"))\nprint(\"Deep Purple's rating is:\",getBandRating(\"Deep Purple\"))\nprint(\"My favourite band is:\", myFavouriteBand)"
        },
        {
            "cell_type": "markdown",
            "metadata": {},
            "source": " Take a look at this modified version of our code. Now the <code>myFavouriteBand</code> variable is defined within the <code>getBandRating</code> function. A variable that is defined within a function is said to be a local variable of that function. That means that it is only accessible from within the function in which it is defined. Our <code>getBandRating</code> function will still work, because <code>myFavouriteBand</code> is still defined within the function. However, we can no longer print <code>myFavouriteBand</code> outside our function, because it is a local variable of our <code>getBandRating</code> function; it is only defined within the <code>getBandRating</code> function:"
        },
        {
            "cell_type": "code",
            "execution_count": 41,
            "metadata": {
                "jupyter": {
                    "outputs_hidden": false
                }
            },
            "outputs": [
                {
                    "name": "stdout",
                    "output_type": "stream",
                    "text": "AC/DC's rating is:  10.0\nDeep Purple's rating is:  0.0\nMy favourite band is AC/DC\n"
                }
            ],
            "source": "# Example of local variable\n\ndef getBandRating(bandname):\n    myFavouriteBand = \"AC/DC\"\n    if bandname == myFavouriteBand:\n        return 10.0\n    else:\n        return 0.0\n\nprint(\"AC/DC's rating is: \", getBandRating(\"AC/DC\"))\nprint(\"Deep Purple's rating is: \", getBandRating(\"Deep Purple\"))\nprint(\"My favourite band is\", myFavouriteBand)"
        },
        {
            "cell_type": "markdown",
            "metadata": {},
            "source": " Finally, take a look at this example. We now have two <code>myFavouriteBand</code> variable definitions. The first one of these has a global scope, and the second of them is a local variable within the <code>getBandRating</code> function. Within the <code>getBandRating</code> function, the local variable takes precedence. **Deep Purple** will receive a rating of 10.0 when passed to the <code>getBandRating</code> function. However, outside of the <code>getBandRating</code> function, the <code>getBandRating</code> s local variable is not defined, so the <code>myFavouriteBand</code> variable we print is the global variable, which has a value of **AC/DC**:"
        },
        {
            "cell_type": "code",
            "execution_count": 42,
            "metadata": {
                "jupyter": {
                    "outputs_hidden": false
                }
            },
            "outputs": [
                {
                    "name": "stdout",
                    "output_type": "stream",
                    "text": "AC/DC's rating is: 0.0\nDeep Purple's rating is:  10.0\nMy favourite band is: AC/DC\n"
                }
            ],
            "source": "# Example of global variable and local variable with the same name\n\nmyFavouriteBand = \"AC/DC\"\n\ndef getBandRating(bandname):\n    myFavouriteBand = \"Deep Purple\"\n    if bandname == myFavouriteBand:\n        return 10.0\n    else:\n        return 0.0\n\nprint(\"AC/DC's rating is:\",getBandRating(\"AC/DC\"))\nprint(\"Deep Purple's rating is: \",getBandRating(\"Deep Purple\"))\nprint(\"My favourite band is:\",myFavouriteBand)"
        }
    ],
    "metadata": {
        "kernelspec": {
            "display_name": "Python 3.7",
            "language": "python",
            "name": "python3"
        },
        "language_info": {
            "codemirror_mode": {
                "name": "ipython",
                "version": 3
            },
            "file_extension": ".py",
            "mimetype": "text/x-python",
            "name": "python",
            "nbconvert_exporter": "python",
            "pygments_lexer": "ipython3",
            "version": "3.7.9"
        }
    },
    "nbformat": 4,
    "nbformat_minor": 4
}